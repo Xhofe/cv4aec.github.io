{
 "cells": [
  {
   "cell_type": "code",
   "execution_count": 1,
   "metadata": {
    "scrolled": false
   },
   "outputs": [
    {
     "name": "stdout",
     "output_type": "stream",
     "text": [
      "Error in getting object from array: 118\n"
     ]
    }
   ],
   "source": [
    "%run Conversion_DWG_FP.ipynb\n",
    "\n",
    "#res = extract_geometry_fromGDB(r\"E:\\Data2\\ArcGIS\\Floor_CAD\\test_folder\\testdwg.gdb\", [\"A_WALL\", \"A_DOOR\"], \"LENGTH;LINE_START_MID_END\", ['Layer', 'START_X', 'START_Y', 'END_X', 'END_Y'])\n",
    "#res = extract_geometry_fromGDB(r\"E:\\Data2\\ArcGIS\\Floor_CAD\\test_folder\\testdwg.gdb\", [\"A_WALL\", \"A_DOOR\"], \"LINE_START_MID_END\", ['Layer'])\n",
    "res = Conversion_DWG_FP.extract_geometry_fromGDB(r\"E:/Data2/ArcGIS/Floor_CAD/test_folder/Blind_Commission_1st Floor_Arch FP_10-24-2018.gdb\", [\"A_WALL\", \"A_DOOR\", \"A_FLOR_STRS\"], True, False)\n",
    "#res = Conversion_DWG_FP.extract_geometry_fromGDB(r\"E:/Data2/ArcGIS/Floor_CAD/test_folder/05-Agriculture_1FloorCareSqFt.gdb\", [\"A-WALL-NEW\", \"A-GLAZ-NEW\"], True)\n",
    "#Conversion_DWG_FP.cvt_dwg2gdb(\"E:/Data2/ArcGIS/Floor_CAD/test_folder\", \"E:/Data2/ArcGIS/Floor_CAD/test_folder\")\n",
    "#Conversion_DWG_FP.cvt_gdb2dwg(r\"E:\\Data2\\ArcGIS\\Floor_CAD\\testdwg.gdb\", [\"A_WALL\", \"A_DOOR\"], \"E:/Data2/ArcGIS/Floor_CAD/FFTT.dwg\")\n",
    "#Conversion_DWG_FP.probe_gdb(\"E:/Data2/ArcGIS/Floor_CAD/test_folder/05-Agriculture_1FloorCareSqFt.gdb\")"
   ]
  },
  {
   "cell_type": "code",
   "execution_count": 2,
   "metadata": {
    "scrolled": false
   },
   "outputs": [],
   "source": [
    "%run FileIO_FP.ipynb\n",
    "%run Utility_FP.ipynb\n",
    "%run Topo_FP.ipynb\n",
    "%run Viewer_FP.ipynb\n",
    "\n",
    "#FileIO_FP.wrt_geometry_2_OBJ(res, \"E:/Data2/ArcGIS/Floor_CAD/test_folder/Blind_Commission_1st Floor_Arch FP_10-24-2018.obj\")\n",
    "#res = FileIO_FP.read_geometry_OBJ(\"E:/Data2/ArcGIS/Floor_CAD/test_folder/Blind_Commission_1st Floor_Arch FP_10-24-2018.obj\")\n",
    "FileIO_FP.wrt_geometry_2_JSON(res, \"E:/Data2/ArcGIS/Floor_CAD/test_folder/Blind_Commission_1st Floor_Arch FP_10-24-2018.txt\")\n",
    "#res = FileIO_FP.read_geometry_JSON(\"E:/Data2/ArcGIS/Floor_CAD/test_folder/Blind_Commission_1st Floor_Arch FP_10-24-2018.txt\")\n",
    "# res = Conversion_DWG_FP.cvt_geometry_format_obj2drw(res)\n",
    "# x1, y1, x2, y2 = Utility_FP.cvt_geometry2list(res)  \n",
    "# img = Viewer_FP.plot_layers(x1, y1, x2, y2, [-1])\n",
    "\n",
    "# # resize_ratio = 0.3\n",
    "# # img = cv2.resize(img, (int(img.shape[1]*resize_ratio), int(img.shape[0]*resize_ratio)))\n",
    "# # simple_points = Topo_FP.compute_simple_points(img, 3)\n",
    "# # #Viewer_FP.draw_red_on_single_dim_cv(red, component_to_plot=-1)\n",
    "\n",
    "# #img = Viewer_FP.draw_simple_points(img, simple_points)\n",
    "# img = cv2.flip(img, 0)\n",
    "# Viewer_FP.imshow_(img)\n",
    "# cv2.imwrite(\"E:/Data2/ArcGIS/Floor_CAD/test_folder/Blind_Commission_1st Floor_Arch FP_10-24-2018.png\", img)"
   ]
  },
  {
   "cell_type": "code",
   "execution_count": null,
   "metadata": {},
   "outputs": [],
   "source": []
  }
 ],
 "metadata": {
  "kernelspec": {
   "display_name": "Python 3",
   "language": "python",
   "name": "python3"
  },
  "language_info": {
   "codemirror_mode": {
    "name": "ipython",
    "version": 3
   },
   "file_extension": ".py",
   "mimetype": "text/x-python",
   "name": "python",
   "nbconvert_exporter": "python",
   "pygments_lexer": "ipython3",
   "version": "3.7.9"
  }
 },
 "nbformat": 4,
 "nbformat_minor": 4
}
