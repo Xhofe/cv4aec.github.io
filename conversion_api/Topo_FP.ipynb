{
 "cells": [
  {
   "cell_type": "code",
   "execution_count": null,
   "metadata": {},
   "outputs": [],
   "source": [
    "import cv2\n",
    "%run Utility_FP.ipynb\n",
    "\n",
    "class Topo_FP(object):\n",
    "    \n",
    "    @staticmethod\n",
    "    def compute_simple_points(img, patch_size):\n",
    "        '''\n",
    "        Assume uint8 data type of input image.\n",
    "        @img: input image assuming background 255 and foreground 0\n",
    "        @patch_size: size of the patch\n",
    "        Refer to: https://virenjain.org/pdf/JainEtal_CVPR10.pdf\n",
    "        '''\n",
    "        img = cv2.cvtColor(img, cv2.COLOR_BGR2GRAY)\n",
    "        img[img != 255] = 0\n",
    "        [h, w] = img.shape\n",
    "\n",
    "        #plt.figure(figsize=(12,12))\n",
    "        simple_points = []\n",
    "        for i in range(h):\n",
    "            for j in range(w):\n",
    "                p = Utility_FP.extract_patch(j, i, patch_size, img)           \n",
    "                cnt, hry, red = Utility_FP.compute_bnd_red_cv(p, 0, 255, 8)\n",
    "                Tkbar = red[0] - 1\n",
    "                p = 255 - p\n",
    "                cnt, hry, red = Utility_FP.compute_bnd_red_cv(p, 0, 255, 4)\n",
    "                Tk = red[0] - 1\n",
    "                if Tkbar == 1 and Tk == 1:\n",
    "                    simple_points.append((j, i))\n",
    "        return simple_points"
   ]
  }
 ],
 "metadata": {
  "kernelspec": {
   "display_name": "Python 3",
   "language": "python",
   "name": "python3"
  },
  "language_info": {
   "codemirror_mode": {
    "name": "ipython",
    "version": 3
   },
   "file_extension": ".py",
   "mimetype": "text/x-python",
   "name": "python",
   "nbconvert_exporter": "python",
   "pygments_lexer": "ipython3",
   "version": "3.7.9"
  }
 },
 "nbformat": 4,
 "nbformat_minor": 4
}
